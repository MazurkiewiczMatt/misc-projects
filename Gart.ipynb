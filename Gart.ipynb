{
 "cells": [
  {
   "cell_type": "code",
   "execution_count": 1,
   "metadata": {},
   "outputs": [],
   "source": [
    "import cv2\n",
    "import numpy as np\n",
    "\n",
    "img_o = cv2.imread(\"mona_lisa.jpg\")\n",
    "img = cv2.cvtColor(img_o, cv2.COLOR_BGR2LAB )"
   ]
  },
  {
   "cell_type": "code",
   "execution_count": 2,
   "metadata": {},
   "outputs": [],
   "source": [
    "HEIGHT, WIDTH, _ = img.shape"
   ]
  },
  {
   "cell_type": "code",
   "execution_count": 3,
   "metadata": {},
   "outputs": [],
   "source": [
    "def crop(img, bounding_box):\n",
    "    return img[bounding_box[1]:bounding_box[3], bounding_box[0]:bounding_box[2]]"
   ]
  },
  {
   "cell_type": "code",
   "execution_count": 4,
   "metadata": {},
   "outputs": [],
   "source": [
    "def find_cut(img, bounding_box, direction=\"x\", depth=5, t=5, failed_previous=False):\n",
    "   \n",
    "    x_min = bounding_box[0]\n",
    "    x_max = bounding_box[2]\n",
    "    y_min = bounding_box[1]\n",
    "    y_max = bounding_box[3]\n",
    "    \n",
    "    if x_max - x_min < 20 and y_max - y_min < 20:\n",
    "        if x_max == x_min or y_max == y_min:\n",
    "            return None\n",
    "        else:\n",
    "            answer = ((x_min, y_min, x_max, y_max), )\n",
    "            assert type(answer[0]) == tuple or answer == None\n",
    "            return answer\n",
    "    \n",
    "    possibilities = []\n",
    "    for k in range(depth):\n",
    "        p = (k+1)/(depth+1)\n",
    "        if direction == \"x\":\n",
    "            l = (x_min, y_min, int(x_min+(x_max-x_min)*p), y_max)\n",
    "            r = (int(x_min+(x_max-x_min)*p), y_min, x_max, y_max)\n",
    "            possibilities.append((l, r))\n",
    "        elif direction == \"y\":\n",
    "            l = (x_min, y_min, x_max, int(y_min+(y_max-y_min)*p))\n",
    "            r = (x_min, int(y_min+(y_max-y_min)*p), x_max, y_max)\n",
    "            possibilities.append((l, r))\n",
    "        else:\n",
    "            raise ValueError(\"Incorrect direction\")\n",
    "            \n",
    "    m = 0\n",
    "    b = possibilities[0]\n",
    "    for k in possibilities:\n",
    "        l = crop(img, k[0])\n",
    "        r = crop(img, k[1])\n",
    "        l_c = l.mean(axis=0).mean(axis=0)\n",
    "        r_c = r.mean(axis=0).mean(axis=0)\n",
    "        d = np.linalg.norm(l_c-r_c)\n",
    "        if d>m:\n",
    "            m = d\n",
    "            b = k\n",
    "            \n",
    "    if m < t:\n",
    "        answer = ((x_min, y_min, x_max, y_max), )\n",
    "        assert type(answer[0] == tuple)\n",
    "        if failed_previous == True:\n",
    "            return answer\n",
    "        else:\n",
    "            if direction == 'y':\n",
    "                new_direction = 'x'\n",
    "            else:\n",
    "                new_direction = 'y'\n",
    "            return find_cut(img, bounding_box, new_direction, depth=depth, failed_previous=True) \n",
    "    if depth == 1:\n",
    "        assert type(b[0] == tuple)\n",
    "        return b\n",
    "    else:\n",
    "        if direction == 'y':\n",
    "            new_direction = 'x'\n",
    "        else:\n",
    "            new_direction = 'y'\n",
    "        a1 = find_cut(img, b[0], new_direction, depth=depth-1) \n",
    "        a2 = find_cut(img, b[1], new_direction, depth=depth-1)\n",
    "        assert type(a1[0]) == tuple or a1 == None\n",
    "        assert type(a2[0]) == tuple or a2 == None\n",
    "        if a1 is not None:\n",
    "            if a2 is not None:\n",
    "                answer = a1+a2\n",
    "            else:\n",
    "                answer = a1\n",
    "        else:\n",
    "            if a2 is not None:\n",
    "                answer = a2\n",
    "            else:\n",
    "                answer = None\n",
    "        assert type(answer[0]) == tuple or answer == None\n",
    "        return answer"
   ]
  },
  {
   "cell_type": "code",
   "execution_count": 5,
   "metadata": {
    "scrolled": false
   },
   "outputs": [
    {
     "name": "stderr",
     "output_type": "stream",
     "text": [
      "<ipython-input-4-10188bd4fbcb>:35: RuntimeWarning: Mean of empty slice.\n",
      "  l_c = l.mean(axis=0).mean(axis=0)\n",
      "C:\\Users\\mateu\\anaconda3\\lib\\site-packages\\numpy\\core\\_methods.py:181: RuntimeWarning: invalid value encountered in true_divide\n",
      "  ret = um.true_divide(\n"
     ]
    }
   ],
   "source": [
    "cuts = find_cut(img, (0, 0, WIDTH, HEIGHT), depth=17, t=15)"
   ]
  },
  {
   "cell_type": "code",
   "execution_count": 6,
   "metadata": {
    "scrolled": false
   },
   "outputs": [],
   "source": [
    "art = np.zeros((HEIGHT,WIDTH,3), np.uint8)\n",
    "for cut in cuts:\n",
    "    art = cv2.rectangle(art, pt1=(cut[0], cut[1]), pt2=(cut[2], cut[3]), color=crop(img_o, cut).mean(axis=0).mean(axis=0), thickness=-1)"
   ]
  },
  {
   "cell_type": "code",
   "execution_count": 7,
   "metadata": {},
   "outputs": [],
   "source": [
    "cv2.imshow(\"Image\", np.concatenate((art, img_o), axis=1))\n",
    "cv2.waitKey(0) \n",
    "\n",
    "cv2.destroyAllWindows()"
   ]
  },
  {
   "cell_type": "code",
   "execution_count": 8,
   "metadata": {
    "scrolled": true
   },
   "outputs": [
    {
     "data": {
      "text/plain": [
       "True"
      ]
     },
     "execution_count": 8,
     "metadata": {},
     "output_type": "execute_result"
    }
   ],
   "source": [
    "cv2.imwrite(\"3.jpg\", np.concatenate((art, img_o), axis=1))"
   ]
  },
  {
   "cell_type": "code",
   "execution_count": null,
   "metadata": {},
   "outputs": [],
   "source": []
  }
 ],
 "metadata": {
  "kernelspec": {
   "display_name": "Python 3",
   "language": "python",
   "name": "python3"
  },
  "language_info": {
   "codemirror_mode": {
    "name": "ipython",
    "version": 3
   },
   "file_extension": ".py",
   "mimetype": "text/x-python",
   "name": "python",
   "nbconvert_exporter": "python",
   "pygments_lexer": "ipython3",
   "version": "3.8.3"
  }
 },
 "nbformat": 4,
 "nbformat_minor": 4
}
