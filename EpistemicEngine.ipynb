{
 "cells": [
  {
   "cell_type": "code",
   "execution_count": 1,
   "metadata": {},
   "outputs": [],
   "source": [
    "from neo4j import GraphDatabase\n",
    "class Neo4jConnection:\n",
    "    \n",
    "    def __init__(self, uri, user, pwd):\n",
    "        self.__uri = uri\n",
    "        self.__user = user\n",
    "        self.__pwd = pwd\n",
    "        self.__driver = None\n",
    "        try:\n",
    "            self.__driver = GraphDatabase.driver(self.__uri, auth=(self.__user, self.__pwd))\n",
    "        except Exception as e:\n",
    "            print(\"Failed to create the driver:\", e)\n",
    "        \n",
    "    def close(self):\n",
    "        if self.__driver is not None:\n",
    "            self.__driver.close()\n",
    "        \n",
    "    def query(self, query, db=None):\n",
    "        assert self.__driver is not None, \"Driver not initialized!\"\n",
    "        session = None\n",
    "        response = None\n",
    "        try: \n",
    "            session = self.__driver.session(database=db) if db is not None else self.__driver.session() \n",
    "            response = list(session.run(query))\n",
    "        except Exception as e:\n",
    "            print(\"Query failed:\", e)\n",
    "        finally: \n",
    "            if session is not None:\n",
    "                session.close()\n",
    "        return response"
   ]
  },
  {
   "cell_type": "code",
   "execution_count": 2,
   "metadata": {},
   "outputs": [],
   "source": [
    "conn = Neo4jConnection(uri=\"bolt://localhost:7687\", user=\"neo4j\", pwd=\"123\")"
   ]
  },
  {
   "cell_type": "code",
   "execution_count": 3,
   "metadata": {},
   "outputs": [],
   "source": [
    "def update():\n",
    "    query_string = '''\n",
    "    MATCH (a:ProgrammingLanguage), (b:Field {name: 'SoftwareDevelopment'}) WHERE not (a)-[:UsefulFor]->(b) CREATE (a)-[r:UsefulFor]->(b)\n",
    "    '''\n",
    "    conn.query(query_string)"
   ]
  },
  {
   "cell_type": "code",
   "execution_count": 4,
   "metadata": {},
   "outputs": [],
   "source": [
    "def create_relation(a, b, relation):\n",
    "    query_string = '''\n",
    "    MATCH (a {name: \"''' + str(a) + '''\"}), (b {name: \"''' + str(b) + '''\"}) WHERE not (a)-[:''' + str(relation) + ''']->(b) CREATE (a)-[r:''' + str(relation) + ''']->(b)\n",
    "    '''\n",
    "    conn.query(query_string)"
   ]
  },
  {
   "cell_type": "code",
   "execution_count": 5,
   "metadata": {},
   "outputs": [],
   "source": [
    "def create_node(name, typ):\n",
    "    query_string = '''\n",
    "    CREATE (a:''' + str(typ) + ''' {name: \"''' + str(name) + '''\"})\n",
    "    '''\n",
    "    conn.query(query_string)"
   ]
  },
  {
   "cell_type": "code",
   "execution_count": 6,
   "metadata": {},
   "outputs": [],
   "source": [
    "def add_tutorial(name, url, tutorialOf):\n",
    "    query_string = '''\n",
    "    CREATE (a:Tutorial {name: \"''' + str(name) + '''\", url: \"''' + str(url) + '''\"})\n",
    "    '''\n",
    "    conn.query(query_string)\n",
    "    create_relation(name, tutorialOf, \"TutorialOf\")"
   ]
  },
  {
   "cell_type": "code",
   "execution_count": 7,
   "metadata": {},
   "outputs": [],
   "source": [
    "def addBook(name, author, bookOn):\n",
    "    query_string = '''\n",
    "    CREATE (a:Book {name: \"''' + str(name) + '''\", author: \"''' + str(author) + '''\"})\n",
    "    '''\n",
    "    conn.query(query_string)\n",
    "    create_relation(name, bookOn, \"BookOn\")"
   ]
  },
  {
   "cell_type": "code",
   "execution_count": 151,
   "metadata": {},
   "outputs": [],
   "source": [
    "add_tutorial(\n",
    "    \"Playing CartPole with the Actor-Critic Method\", \n",
    "    \"https://www.tensorflow.org/tutorials/reinforcement_learning/actor_critic\", \n",
    "    \"TensorFlow\")"
   ]
  },
  {
   "cell_type": "code",
   "execution_count": 213,
   "metadata": {},
   "outputs": [],
   "source": [
    "addBook(\n",
    "    \"The Pragmatic Programmer\",\n",
    "    \"Andrew Hunt\",\n",
    "    \"SoftwareDevelopment\"\n",
    ")"
   ]
  },
  {
   "cell_type": "code",
   "execution_count": 207,
   "metadata": {},
   "outputs": [],
   "source": [
    "create_node(\"Operating Systems\", \"Software\")"
   ]
  },
  {
   "cell_type": "code",
   "execution_count": 13,
   "metadata": {},
   "outputs": [],
   "source": [
    "create_relation(\"SoftwareDevelopment\", \"Physics\", \"BranchOf\")"
   ]
  },
  {
   "cell_type": "code",
   "execution_count": 8,
   "metadata": {},
   "outputs": [],
   "source": [
    "def find_tutorials(name):\n",
    "    query_string = '''\n",
    "    MATCH (m)-[:TutorialOf]->(n {name: \"''' + name + '''\"}) RETURN m.name AS name, m.url AS url\n",
    "    '''\n",
    "    tutorials = conn.query(query_string)\n",
    "    return tutorials"
   ]
  },
  {
   "cell_type": "code",
   "execution_count": 9,
   "metadata": {},
   "outputs": [],
   "source": [
    "def find_books(name):\n",
    "    query_string = '''\n",
    "    MATCH (m)-[:BookOn]->(n {name: \"''' + name + '''\"}) RETURN m.name AS name, m.author AS author\n",
    "    '''\n",
    "    books = conn.query(query_string)\n",
    "    return books"
   ]
  },
  {
   "cell_type": "code",
   "execution_count": 10,
   "metadata": {},
   "outputs": [],
   "source": [
    "def write_resources(name):    \n",
    "    tutorials = find_tutorials(name)\n",
    "    if len(tutorials) > 0:\n",
    "        print(\"Tutorials for \" + name + \":\")\n",
    "    for tutorial in tutorials:\n",
    "        print(\"\\t\" + tutorial[\"name\"] + \" : \" + tutorial[\"url\"])\n",
    "        \n",
    "    books = find_books(name)\n",
    "    if len(books) > 0:\n",
    "        print(\"Books on \" + name + \":\")\n",
    "    for book in books:\n",
    "        print(\"\\t\" + book[\"name\"] + \" by \" + book[\"author\"])\n",
    "    \n",
    "    if len(books)+len(tutorials)>0:\n",
    "        print(\"\\n\")"
   ]
  },
  {
   "cell_type": "code",
   "execution_count": 12,
   "metadata": {},
   "outputs": [],
   "source": [
    "def compile_resources(name):\n",
    "    query_string = '''\n",
    "    MATCH (n {name: \"''' + name + '''\"})-[:Requires]->(m) RETURN m.name AS name\n",
    "    '''\n",
    "    requires = conn.query(query_string)\n",
    "    query_string = '''\n",
    "    MATCH (n {name: \"''' + name + '''\"})-[:BranchOf]->(m) RETURN m.name AS name\n",
    "    '''\n",
    "    branchOf = conn.query(query_string)\n",
    "    query_string = '''\n",
    "    MATCH (m)-[:BranchOf]->(n {name: \"''' + name + '''\"}) RETURN m.name AS name\n",
    "    '''\n",
    "    branches = conn.query(query_string)\n",
    "    query_string = '''\n",
    "    MATCH (m)-[:UsefulFor]->(n {name: \"''' + name + '''\"}) RETURN m.name AS name\n",
    "    '''\n",
    "    useful = conn.query(query_string)\n",
    "    query_string = '''\n",
    "    MATCH (n {name: \"''' + name + '''\"})-[:UsefulFor]->(m) RETURN m.name AS name\n",
    "    '''\n",
    "    usefulFor = conn.query(query_string)\n",
    "    \n",
    "    if len(branchOf)==1:\n",
    "        print(name + \" is a branch of \" + branchOf[0][\"name\"])\n",
    "    elif len(branchOf)>1:\n",
    "        print(name + \" is a branch of \" + ', '.join([str(elem[\"name\"]) for elem in branchOf]))\n",
    "    else:\n",
    "        print(name + \" isn't a branch of anything.\")\n",
    "        \n",
    "    if len(branches)==1:\n",
    "        print(branches[0][\"name\"] + \" are its branches\")\n",
    "    elif len(branches)>1:\n",
    "        print(', '.join([str(elem[\"name\"]) for elem in branches])  + \" are its branches\")\n",
    "        \n",
    "    if len(usefulFor)==1:\n",
    "        print(\"It's useful for \" + usefulFor[0][\"name\"])\n",
    "    elif len(usefulFor)>1:\n",
    "        print(\"It's useful for \" + ', '.join([str(elem[\"name\"]) for elem in usefulFor]))\n",
    "        \n",
    "    if len(useful)==1:\n",
    "        print(\"Learning or using it, you might need: \" + useful[0][\"name\"])\n",
    "    elif len(useful)>1:\n",
    "        print(\"Learning or using it, you might need: \" + ', '.join([str(elem[\"name\"]) for elem in useful]))\n",
    "    \n",
    "    if len(requires)==1:\n",
    "        print(\"The following are prerequisites: \" + requires[0][\"name\"])\n",
    "    elif len(requires)>1:\n",
    "        print(\"The following are prerequisites: \" + ', '.join([str(elem[\"name\"]) for elem in requires]))\n",
    "        \n",
    "    print(\"\\n\")\n",
    "    lst = [name]\n",
    "    lst += [element[\"name\"] for element in useful]\n",
    "    lst += [element[\"name\"] for element in branchOf]\n",
    "    lst += [element[\"name\"] for element in requires]\n",
    "    for i in lst:\n",
    "        write_resources(i)"
   ]
  },
  {
   "cell_type": "code",
   "execution_count": 13,
   "metadata": {
    "scrolled": false
   },
   "outputs": [
    {
     "name": "stdout",
     "output_type": "stream",
     "text": [
      "SoftwareDevelopment is a branch of Physics, Engineering\n",
      "Operating Systems, Compilers, BackEnd, FrontEnd, DevOps are its branches\n",
      "Learning or using it, you might need: VersionControl, GraphQL, API, Docker, Git, Perl, Ruby, Scala, MATLAB, Dart, PHP, Swift, Rust, Go, C, C++, C#, Java, JavaScript, R, SQL, Python, ComputerScience\n",
      "\n",
      "\n",
      "Books on SoftwareDevelopment:\n",
      "\tThe Pragmatic Programmer by Andrew Hunt\n",
      "\n",
      "\n",
      "Tutorials for Docker:\n",
      "\tDocker for Beginners : https://docker-curriculum.com/\n",
      "\tDocker for beginners: From Docker Desktop to Deployment : https://www.youtube.com/watch?v=i7ABlHngi1Q\n",
      "\tDeploying Docker Containers : https://docs.aws.amazon.com/AmazonECS/latest/userguide/docker-basics.html\n",
      "\n",
      "\n",
      "Tutorials for Git:\n",
      "\tLearnGit : https://www.codecademy.com/learn/learn-git\n",
      "\tLecture 6: Version Control (git) (2020) : https://www.youtube.com/watch?v=2sjqTHE0zok\n",
      "\tLearnGitBranching : https://learngitbranching.js.org/\n",
      "\n",
      "\n",
      "Books on C:\n",
      "\tThe C Programming Language by Kernighan and Ritchie\n",
      "\n",
      "\n",
      "Tutorials for R:\n",
      "\tUsing R on Jupyter Notebook : https://dzone.com/articles/using-r-on-jupyternbspnotebook\n",
      "\n",
      "\n"
     ]
    }
   ],
   "source": [
    "compile_resources('SoftwareDevelopment')"
   ]
  },
  {
   "cell_type": "code",
   "execution_count": 20,
   "metadata": {
    "scrolled": true
   },
   "outputs": [
    {
     "data": {
      "text/plain": [
       "[<Record n=<Node id=0 labels=frozenset({'ProgrammingLanguage'}) properties={'filenameExtension': '.py', 'name': 'Python'}>>]"
      ]
     },
     "execution_count": 20,
     "metadata": {},
     "output_type": "execute_result"
    }
   ],
   "source": [
    "query_string = '''\n",
    "MATCH (n:ProgrammingLanguage {name: 'Python'}) RETURN n\n",
    "'''\n",
    "conn.query(query_string)"
   ]
  },
  {
   "cell_type": "code",
   "execution_count": 24,
   "metadata": {},
   "outputs": [],
   "source": [
    "languages = ['JavaScript', 'Java', 'C#', 'C++', 'C', 'Go', 'R', 'Rust', 'Swift', 'PHP', 'Dart', 'MATLAB', 'Scala', 'Ruby', 'Perl']\n",
    "\n",
    "for l in languages:\n",
    "    query_string = '''\n",
    "    MATCH (n:ProgrammingLanguage {name: \"''' + l + '''\"}) RETURN n\n",
    "    '''\n",
    "    ans = conn.query(query_string)\n",
    "    if ans == []:\n",
    "        create_node(l, \"ProgrammingLanguage\")\n",
    "        \n",
    "update()"
   ]
  },
  {
   "cell_type": "code",
   "execution_count": 60,
   "metadata": {},
   "outputs": [],
   "source": [
    "branches = ['TensorFlow', 'Keras']\n",
    "\n",
    "for l in branches:\n",
    "    query_string = '''\n",
    "    MATCH (n:Library {name: \"''' + l + '''\"}) RETURN n\n",
    "    '''\n",
    "    ans = conn.query(query_string)\n",
    "    if ans == []:\n",
    "        create_node(l, \"Library\")\n",
    "        create_relation(l, \"Python\", \"LibraryOf\") #\n",
    "        \n",
    "update()"
   ]
  },
  {
   "cell_type": "code",
   "execution_count": 67,
   "metadata": {},
   "outputs": [],
   "source": [
    "create_relation(\"MachineLearning\", \"ComputerScience\", \"Requires\")"
   ]
  },
  {
   "cell_type": "code",
   "execution_count": 61,
   "metadata": {},
   "outputs": [],
   "source": [
    "create_node(\"MachineLearning\", \"Field\")"
   ]
  },
  {
   "cell_type": "code",
   "execution_count": null,
   "metadata": {},
   "outputs": [],
   "source": []
  }
 ],
 "metadata": {
  "kernelspec": {
   "display_name": "Python 3",
   "language": "python",
   "name": "python3"
  },
  "language_info": {
   "codemirror_mode": {
    "name": "ipython",
    "version": 3
   },
   "file_extension": ".py",
   "mimetype": "text/x-python",
   "name": "python",
   "nbconvert_exporter": "python",
   "pygments_lexer": "ipython3",
   "version": "3.8.3"
  }
 },
 "nbformat": 4,
 "nbformat_minor": 4
}
